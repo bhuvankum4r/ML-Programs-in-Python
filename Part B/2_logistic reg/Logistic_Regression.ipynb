{
 "cells": [
  {
   "cell_type": "code",
   "execution_count": 1,
   "metadata": {
    "ExecuteTime": {
     "end_time": "2023-09-09T20:19:31.077505900Z",
     "start_time": "2023-09-09T20:19:25.436883100Z"
    }
   },
   "outputs": [],
   "source": [
    "import pandas as pd\n",
    "import numpy as np\n",
    "from sklearn.model_selection import train_test_split\n",
    "from sklearn.preprocessing import MinMaxScaler\n",
    "import statsmodels\n",
    "from sklearn.metrics import classification_report\n",
    "import matplotlib.pyplot as plt\n",
    "from sklearn.metrics import roc_curve\n",
    "from sklearn.metrics import confusion_matrix\n",
    "import statsmodels.api as sm"
   ]
  },
  {
   "cell_type": "code",
   "execution_count": 2,
   "metadata": {
    "ExecuteTime": {
     "end_time": "2023-09-09T20:19:38.903410900Z",
     "start_time": "2023-09-09T20:19:38.834639600Z"
    }
   },
   "outputs": [
    {
     "name": "stdout",
     "output_type": "stream",
     "text": [
      "<class 'pandas.core.frame.DataFrame'>\n",
      "RangeIndex: 9261 entries, 0 to 9260\n",
      "Data columns (total 7 columns):\n",
      " #   Column          Non-Null Count  Dtype  \n",
      "---  ------          --------------  -----  \n",
      " 0   job             9261 non-null   object \n",
      " 1   marital         9261 non-null   object \n",
      " 2   education       9261 non-null   object \n",
      " 3   loan            9261 non-null   object \n",
      " 4   age             9261 non-null   int64  \n",
      " 5   cons_price_idx  9257 non-null   float64\n",
      " 6   subscribe       9261 non-null   int64  \n",
      "dtypes: float64(1), int64(2), object(4)\n",
      "memory usage: 506.6+ KB\n"
     ]
    }
   ],
   "source": [
    "data = pd.read_csv('Logistic_Regression_data.csv')\n",
    "data.info()"
   ]
  },
  {
   "cell_type": "markdown",
   "metadata": {},
   "source": [
    "EDA"
   ]
  },
  {
   "cell_type": "code",
   "execution_count": 3,
   "metadata": {
    "ExecuteTime": {
     "end_time": "2023-09-09T20:19:46.017508200Z",
     "start_time": "2023-09-09T20:19:45.330719200Z"
    }
   },
   "outputs": [
    {
     "data": {
      "text/plain": "<Figure size 640x480 with 1 Axes>",
      "image/png": "[encoded data removed]"
     },
     "metadata": {},
     "output_type": "display_data"
    }
   ],
   "source": [
    "## Outlier check in age variables\n",
    "# Box Plot\n",
    "plt.boxplot(data['age'])\n",
    "plt.show()\n"
   ]
  },
  {
   "cell_type": "code",
   "execution_count": 4,
   "metadata": {
    "ExecuteTime": {
     "end_time": "2023-09-09T20:19:52.029202Z",
     "start_time": "2023-09-09T20:19:49.405425900Z"
    }
   },
   "outputs": [
    {
     "name": "stdout",
     "output_type": "stream",
     "text": [
      "outlier in dataset is [86, 78, 81, 88, 83, 78, 77, 78, 87, 77, 83, 86, 85, 85, 77, 86, 82, 80, 80, 77, 83, 85, 80, 79, 84, 83, 86, 78, 77, 78, 92, 78, 80, 82, 88, 81, 88, 82, 88, 83, 78, 82, 86, 77, 80, 83, 77, 78, 81, 78, 80, 81, 80, 89, 83, 80, 80, 77, 80, 84, 98, 85, 98, 85, 85, 78, 81, 82, 78, 77, 82, 80, 82, 79, 80, 81, 78, 81, 80, 79, 88, 92, 88, 88, 82, 77, 85, 83, 80, 81, 82, 83, 77, 82, 80, 79, 79, 85, 85, 89, 80, 77, 79, 78, 80, 80, 88, 82, 81, 82, 84, 77, 78, 88, 88, 79, 80, 80, 92]\n",
      "minimum of the outlier list 77\n",
      "Median of the column excluding outliers--> 37.0\n"
     ]
    }
   ],
   "source": [
    "## Outlier treatment with Z Score\n",
    "threshold = 3\n",
    "outlier = []\n",
    "for i in data['age']:\n",
    "    z = (i-data['age'].mean())/data['age'].std()\n",
    "    if z > threshold:\n",
    "        outlier.append(i)\n",
    "print('outlier in dataset is', outlier)\n",
    "print('minimum of the outlier list', min(outlier))\n",
    "## calculate the median for the column excluding the outlier\n",
    "med = data.loc[data['age']<= min(outlier), 'age'].median()\n",
    "print('Median of the column excluding outliers-->',med)\n",
    "f = lambda x: med if x>= min(outlier) else x\n",
    "data['out_treated_age'] = data['age'].map(f)\n",
    "max(data['out_treated_age'])\n",
    "data.drop(['age'], axis=1,inplace = True)"
   ]
  },
  {
   "cell_type": "code",
   "execution_count": 5,
   "metadata": {
    "ExecuteTime": {
     "end_time": "2023-09-09T20:19:54.359686500Z",
     "start_time": "2023-09-09T20:19:54.312078500Z"
    }
   },
   "outputs": [
    {
     "data": {
      "text/plain": "job                0\nmarital            0\neducation          0\nloan               0\ncons_price_idx     4\nsubscribe          0\nout_treated_age    0\ndtype: int64"
     },
     "execution_count": 5,
     "metadata": {},
     "output_type": "execute_result"
    }
   ],
   "source": [
    "## Check for missing values\n",
    "data.isna().sum()"
   ]
  },
  {
   "cell_type": "code",
   "execution_count": 6,
   "metadata": {
    "ExecuteTime": {
     "end_time": "2023-09-09T20:19:58.077126Z",
     "start_time": "2023-09-09T20:19:57.852978100Z"
    }
   },
   "outputs": [
    {
     "name": "stdout",
     "output_type": "stream",
     "text": [
      "<class 'pandas.core.frame.DataFrame'>\n",
      "Index: 9257 entries, 0 to 9260\n",
      "Data columns (total 7 columns):\n",
      " #   Column           Non-Null Count  Dtype  \n",
      "---  ------           --------------  -----  \n",
      " 0   job              9257 non-null   object \n",
      " 1   marital          9257 non-null   object \n",
      " 2   education        9257 non-null   object \n",
      " 3   loan             9257 non-null   object \n",
      " 4   cons_price_idx   9257 non-null   float64\n",
      " 5   subscribe        9257 non-null   int64  \n",
      " 6   out_treated_age  9257 non-null   float64\n",
      "dtypes: float64(2), int64(1), object(4)\n",
      "memory usage: 578.6+ KB\n"
     ]
    },
    {
     "data": {
      "text/plain": "<Figure size 640x480 with 1 Axes>",
      "image/png": "[encoded data removed]"
     },
     "metadata": {},
     "output_type": "display_data"
    }
   ],
   "source": [
    "## We can see that there are missing values in cons_price_idx column\n",
    "## Box plot is not possible with missing values, so lets subset the data except missing value, treat outliers if any,\n",
    "## Then come back and treat the missing value\n",
    "filtered_data = data.dropna()\n",
    "filtered_data.info()\n",
    "plt.boxplot(filtered_data['cons_price_idx'])\n",
    "plt.show()\n",
    "## There is no outlier, so we can continue treating missing values"
   ]
  },
  {
   "cell_type": "code",
   "execution_count": 7,
   "metadata": {
    "ExecuteTime": {
     "end_time": "2023-09-09T20:20:00.605037400Z",
     "start_time": "2023-09-09T20:20:00.562628900Z"
    }
   },
   "outputs": [
    {
     "name": "stdout",
     "output_type": "stream",
     "text": [
      "<class 'pandas.core.frame.DataFrame'>\n",
      "RangeIndex: 9261 entries, 0 to 9260\n",
      "Data columns (total 7 columns):\n",
      " #   Column           Non-Null Count  Dtype  \n",
      "---  ------           --------------  -----  \n",
      " 0   job              9261 non-null   object \n",
      " 1   marital          9261 non-null   object \n",
      " 2   education        9261 non-null   object \n",
      " 3   loan             9261 non-null   object \n",
      " 4   cons_price_idx   9261 non-null   float64\n",
      " 5   subscribe        9261 non-null   int64  \n",
      " 6   out_treated_age  9261 non-null   float64\n",
      "dtypes: float64(2), int64(1), object(4)\n",
      "memory usage: 506.6+ KB\n"
     ]
    }
   ],
   "source": [
    "## fill missing values with mean\n",
    "data['cons_price_idx'] = data['cons_price_idx'].fillna(data['cons_price_idx'].mean())\n",
    "data.info()"
   ]
  },
  {
   "cell_type": "code",
   "execution_count": 8,
   "metadata": {
    "ExecuteTime": {
     "end_time": "2023-09-09T20:20:03.955006700Z",
     "start_time": "2023-09-09T20:20:03.890419600Z"
    }
   },
   "outputs": [],
   "source": [
    "scaler = MinMaxScaler()\n",
    "numerical = data.select_dtypes(exclude=['object'])\n",
    "data[numerical.columns] = scaler.fit_transform(numerical)\n",
    "data = pd.get_dummies(data,drop_first = True)"
   ]
  },
  {
   "cell_type": "code",
   "execution_count": 9,
   "metadata": {
    "ExecuteTime": {
     "end_time": "2023-09-09T20:20:04.808324800Z",
     "start_time": "2023-09-09T20:20:04.765343500Z"
    }
   },
   "outputs": [],
   "source": [
    "y = data['subscribe']\n",
    "X = data.drop(['subscribe'], axis=1)\n",
    "X_train, X_test, y_train, y_test = train_test_split(X, y, test_size = 0.2, random_state = 0)\n",
    "train_data = pd.concat([X_train,y_train], axis = 1)\n",
    "test_data = pd.concat([X_test,y_test], axis = 1)"
   ]
  },
  {
   "cell_type": "code",
   "execution_count": 10,
   "metadata": {
    "ExecuteTime": {
     "end_time": "2023-09-09T20:20:05.943445300Z",
     "start_time": "2023-09-09T20:20:05.885056700Z"
    }
   },
   "outputs": [
    {
     "data": {
      "text/plain": "      cons_price_idx  out_treated_age  job_retired  job_self_employed  \\\n5951        0.174591         0.203390        False              False   \n1624        0.484412         0.372881        False              False   \n6107        0.089634         0.745763        False              False   \n8091        0.089634         0.423729        False              False   \n2563        0.698753         0.237288        False              False   \n...              ...              ...          ...                ...   \n7891        0.603274         0.338983        False              False   \n9225        0.269680         0.322034        False              False   \n4859        0.652767         0.694915        False              False   \n3264        0.269680         0.389831        False              False   \n2732        0.698753         0.508475        False              False   \n\n      job_unemployed  job_white_collar  marital_married  marital_single  \\\n5951           False             False            False            True   \n1624           False              True             True           False   \n6107           False              True             True           False   \n8091           False             False             True           False   \n2563           False              True             True           False   \n...              ...               ...              ...             ...   \n7891           False             False             True           False   \n9225           False              True            False           False   \n4859           False              True             True           False   \n3264           False             False             True           False   \n2732           False             False             True           False   \n\n      education_school  loan_yes  subscribe  \n5951             False      True        1.0  \n1624             False     False        0.0  \n6107             False     False        1.0  \n8091             False     False        1.0  \n2563             False     False        0.0  \n...                ...       ...        ...  \n7891              True     False        1.0  \n9225              True     False        1.0  \n4859             False     False        1.0  \n3264             False     False        1.0  \n2732              True     False        0.0  \n\n[7408 rows x 11 columns]",
      "text/html": "<div>\n<style scoped>\n    .dataframe tbody tr th:only-of-type {\n        vertical-align: middle;\n    }\n\n    .dataframe tbody tr th {\n        vertical-align: top;\n    }\n\n    .dataframe thead th {\n        text-align: right;\n    }\n</style>\n<table border=\"1\" class=\"dataframe\">\n  <thead>\n    <tr style=\"text-align: right;\">\n      <th></th>\n      <th>cons_price_idx</th>\n      <th>out_treated_age</th>\n      <th>job_retired</th>\n      <th>job_self_employed</th>\n      <th>job_unemployed</th>\n      <th>job_white_collar</th>\n      <th>marital_married</th>\n      <th>marital_single</th>\n      <th>education_school</th>\n      <th>loan_yes</th>\n      <th>subscribe</th>\n    </tr>\n  </thead>\n  <tbody>\n    <tr>\n      <th>5951</th>\n      <td>0.174591</td>\n      <td>0.203390</td>\n      <td>False</td>\n      <td>False</td>\n      <td>False</td>\n      <td>False</td>\n      <td>False</td>\n      <td>True</td>\n      <td>False</td>\n      <td>True</td>\n      <td>1.0</td>\n    </tr>\n    <tr>\n      <th>1624</th>\n      <td>0.484412</td>\n      <td>0.372881</td>\n      <td>False</td>\n      <td>False</td>\n      <td>False</td>\n      <td>True</td>\n      <td>True</td>\n      <td>False</td>\n      <td>False</td>\n      <td>False</td>\n      <td>0.0</td>\n    </tr>\n    <tr>\n      <th>6107</th>\n      <td>0.089634</td>\n      <td>0.745763</td>\n      <td>False</td>\n      <td>False</td>\n      <td>False</td>\n      <td>True</td>\n      <td>True</td>\n      <td>False</td>\n      <td>False</td>\n      <td>False</td>\n      <td>1.0</td>\n    </tr>\n    <tr>\n      <th>8091</th>\n      <td>0.089634</td>\n      <td>0.423729</td>\n      <td>False</td>\n      <td>False</td>\n      <td>False</td>\n      <td>False</td>\n      <td>True</td>\n      <td>False</td>\n      <td>False</td>\n      <td>False</td>\n      <td>1.0</td>\n    </tr>\n    <tr>\n      <th>2563</th>\n      <td>0.698753</td>\n      <td>0.237288</td>\n      <td>False</td>\n      <td>False</td>\n      <td>False</td>\n      <td>True</td>\n      <td>True</td>\n      <td>False</td>\n      <td>False</td>\n      <td>False</td>\n      <td>0.0</td>\n    </tr>\n    <tr>\n      <th>...</th>\n      <td>...</td>\n      <td>...</td>\n      <td>...</td>\n      <td>...</td>\n      <td>...</td>\n      <td>...</td>\n      <td>...</td>\n      <td>...</td>\n      <td>...</td>\n      <td>...</td>\n      <td>...</td>\n    </tr>\n    <tr>\n      <th>7891</th>\n      <td>0.603274</td>\n      <td>0.338983</td>\n      <td>False</td>\n      <td>False</td>\n      <td>False</td>\n      <td>False</td>\n      <td>True</td>\n      <td>False</td>\n      <td>True</td>\n      <td>False</td>\n      <td>1.0</td>\n    </tr>\n    <tr>\n      <th>9225</th>\n      <td>0.269680</td>\n      <td>0.322034</td>\n      <td>False</td>\n      <td>False</td>\n      <td>False</td>\n      <td>True</td>\n      <td>False</td>\n      <td>False</td>\n      <td>True</td>\n      <td>False</td>\n      <td>1.0</td>\n    </tr>\n    <tr>\n      <th>4859</th>\n      <td>0.652767</td>\n      <td>0.694915</td>\n      <td>False</td>\n      <td>False</td>\n      <td>False</td>\n      <td>True</td>\n      <td>True</td>\n      <td>False</td>\n      <td>False</td>\n      <td>False</td>\n      <td>1.0</td>\n    </tr>\n    <tr>\n      <th>3264</th>\n      <td>0.269680</td>\n      <td>0.389831</td>\n      <td>False</td>\n      <td>False</td>\n      <td>False</td>\n      <td>False</td>\n      <td>True</td>\n      <td>False</td>\n      <td>False</td>\n      <td>False</td>\n      <td>1.0</td>\n    </tr>\n    <tr>\n      <th>2732</th>\n      <td>0.698753</td>\n      <td>0.508475</td>\n      <td>False</td>\n      <td>False</td>\n      <td>False</td>\n      <td>False</td>\n      <td>True</td>\n      <td>False</td>\n      <td>True</td>\n      <td>False</td>\n      <td>0.0</td>\n    </tr>\n  </tbody>\n</table>\n<p>7408 rows × 11 columns</p>\n</div>"
     },
     "execution_count": 10,
     "metadata": {},
     "output_type": "execute_result"
    }
   ],
   "source": [
    "train_data"
   ]
  },
  {
   "cell_type": "code",
   "execution_count": 12,
   "metadata": {
    "ExecuteTime": {
     "end_time": "2023-09-09T20:20:17.170454500Z",
     "start_time": "2023-09-09T20:20:17.000088500Z"
    }
   },
   "outputs": [
    {
     "name": "stdout",
     "output_type": "stream",
     "text": [
      "Optimization terminated successfully.\n",
      "         Current function value: 0.487461\n",
      "         Iterations 6\n"
     ]
    },
    {
     "data": {
      "text/plain": "<class 'statsmodels.iolib.summary.Summary'>\n\"\"\"\n                           Logit Regression Results                           \n==============================================================================\nDep. Variable:              subscribe   No. Observations:                 7408\nModel:                          Logit   Df Residuals:                     7397\nMethod:                           MLE   Df Model:                           10\nDate:                Sun, 10 Sep 2023   Pseudo R-squ.:                  0.2967\nTime:                        01:50:17   Log-Likelihood:                -3611.1\nconverged:                       True   LL-Null:                       -5134.7\nCovariance Type:            nonrobust   LLR p-value:                     0.000\n=============================================================================================\n                                coef    std err          z      P>|z|      [0.025      0.975]\n---------------------------------------------------------------------------------------------\nIntercept                     2.8490      0.149     19.131      0.000       2.557       3.141\njob_retired[T.True]           2.0631      0.153     13.492      0.000       1.763       2.363\njob_self_employed[T.True]    -0.0955      0.121     -0.791      0.429      -0.332       0.141\njob_unemployed[T.True]        1.5004      0.132     11.358      0.000       1.242       1.759\njob_white_collar[T.True]      0.3149      0.065      4.877      0.000       0.188       0.441\nmarital_married[T.True]      -0.0950      0.096     -0.988      0.323      -0.283       0.093\nmarital_single[T.True]        0.3632      0.108      3.363      0.001       0.152       0.575\nloan_yes[T.True]              0.0129      0.083      0.156      0.876      -0.149       0.175\neducation_school[T.True]     -0.0665      0.060     -1.101      0.271      -0.185       0.052\nout_treated_age              -0.3609      0.197     -1.833      0.067      -0.747       0.025\ncons_price_idx               -6.1940      0.148    -41.763      0.000      -6.485      -5.903\n=============================================================================================\n\"\"\"",
      "text/html": "<table class=\"simpletable\">\n<caption>Logit Regression Results</caption>\n<tr>\n  <th>Dep. Variable:</th>       <td>subscribe</td>    <th>  No. Observations:  </th>  <td>  7408</td> \n</tr>\n<tr>\n  <th>Model:</th>                 <td>Logit</td>      <th>  Df Residuals:      </th>  <td>  7397</td> \n</tr>\n<tr>\n  <th>Method:</th>                 <td>MLE</td>       <th>  Df Model:          </th>  <td>    10</td> \n</tr>\n<tr>\n  <th>Date:</th>            <td>Sun, 10 Sep 2023</td> <th>  Pseudo R-squ.:     </th>  <td>0.2967</td> \n</tr>\n<tr>\n  <th>Time:</th>                <td>01:50:17</td>     <th>  Log-Likelihood:    </th> <td> -3611.1</td>\n</tr>\n<tr>\n  <th>converged:</th>             <td>True</td>       <th>  LL-Null:           </th> <td> -5134.7</td>\n</tr>\n<tr>\n  <th>Covariance Type:</th>     <td>nonrobust</td>    <th>  LLR p-value:       </th>  <td> 0.000</td> \n</tr>\n</table>\n<table class=\"simpletable\">\n<tr>\n              <td></td>                 <th>coef</th>     <th>std err</th>      <th>z</th>      <th>P>|z|</th>  <th>[0.025</th>    <th>0.975]</th>  \n</tr>\n<tr>\n  <th>Intercept</th>                 <td>    2.8490</td> <td>    0.149</td> <td>   19.131</td> <td> 0.000</td> <td>    2.557</td> <td>    3.141</td>\n</tr>\n<tr>\n  <th>job_retired[T.True]</th>       <td>    2.0631</td> <td>    0.153</td> <td>   13.492</td> <td> 0.000</td> <td>    1.763</td> <td>    2.363</td>\n</tr>\n<tr>\n  <th>job_self_employed[T.True]</th> <td>   -0.0955</td> <td>    0.121</td> <td>   -0.791</td> <td> 0.429</td> <td>   -0.332</td> <td>    0.141</td>\n</tr>\n<tr>\n  <th>job_unemployed[T.True]</th>    <td>    1.5004</td> <td>    0.132</td> <td>   11.358</td> <td> 0.000</td> <td>    1.242</td> <td>    1.759</td>\n</tr>\n<tr>\n  <th>job_white_collar[T.True]</th>  <td>    0.3149</td> <td>    0.065</td> <td>    4.877</td> <td> 0.000</td> <td>    0.188</td> <td>    0.441</td>\n</tr>\n<tr>\n  <th>marital_married[T.True]</th>   <td>   -0.0950</td> <td>    0.096</td> <td>   -0.988</td> <td> 0.323</td> <td>   -0.283</td> <td>    0.093</td>\n</tr>\n<tr>\n  <th>marital_single[T.True]</th>    <td>    0.3632</td> <td>    0.108</td> <td>    3.363</td> <td> 0.001</td> <td>    0.152</td> <td>    0.575</td>\n</tr>\n<tr>\n  <th>loan_yes[T.True]</th>          <td>    0.0129</td> <td>    0.083</td> <td>    0.156</td> <td> 0.876</td> <td>   -0.149</td> <td>    0.175</td>\n</tr>\n<tr>\n  <th>education_school[T.True]</th>  <td>   -0.0665</td> <td>    0.060</td> <td>   -1.101</td> <td> 0.271</td> <td>   -0.185</td> <td>    0.052</td>\n</tr>\n<tr>\n  <th>out_treated_age</th>           <td>   -0.3609</td> <td>    0.197</td> <td>   -1.833</td> <td> 0.067</td> <td>   -0.747</td> <td>    0.025</td>\n</tr>\n<tr>\n  <th>cons_price_idx</th>            <td>   -6.1940</td> <td>    0.148</td> <td>  -41.763</td> <td> 0.000</td> <td>   -6.485</td> <td>   -5.903</td>\n</tr>\n</table>",
      "text/latex": "\\begin{center}\n\\begin{tabular}{lclc}\n\\toprule\n\\textbf{Dep. Variable:}              &    subscribe     & \\textbf{  No. Observations:  } &     7408    \\\\\n\\textbf{Model:}                      &      Logit       & \\textbf{  Df Residuals:      } &     7397    \\\\\n\\textbf{Method:}                     &       MLE        & \\textbf{  Df Model:          } &       10    \\\\\n\\textbf{Date:}                       & Sun, 10 Sep 2023 & \\textbf{  Pseudo R-squ.:     } &   0.2967    \\\\\n\\textbf{Time:}                       &     01:50:17     & \\textbf{  Log-Likelihood:    } &   -3611.1   \\\\\n\\textbf{converged:}                  &       True       & \\textbf{  LL-Null:           } &   -5134.7   \\\\\n\\textbf{Covariance Type:}            &    nonrobust     & \\textbf{  LLR p-value:       } &    0.000    \\\\\n\\bottomrule\n\\end{tabular}\n\\begin{tabular}{lcccccc}\n                                     & \\textbf{coef} & \\textbf{std err} & \\textbf{z} & \\textbf{P$> |$z$|$} & \\textbf{[0.025} & \\textbf{0.975]}  \\\\\n\\midrule\n\\textbf{Intercept}                   &       2.8490  &        0.149     &    19.131  &         0.000        &        2.557    &        3.141     \\\\\n\\textbf{job\\_retired[T.True]}        &       2.0631  &        0.153     &    13.492  &         0.000        &        1.763    &        2.363     \\\\\n\\textbf{job\\_self\\_employed[T.True]} &      -0.0955  &        0.121     &    -0.791  &         0.429        &       -0.332    &        0.141     \\\\\n\\textbf{job\\_unemployed[T.True]}     &       1.5004  &        0.132     &    11.358  &         0.000        &        1.242    &        1.759     \\\\\n\\textbf{job\\_white\\_collar[T.True]}  &       0.3149  &        0.065     &     4.877  &         0.000        &        0.188    &        0.441     \\\\\n\\textbf{marital\\_married[T.True]}    &      -0.0950  &        0.096     &    -0.988  &         0.323        &       -0.283    &        0.093     \\\\\n\\textbf{marital\\_single[T.True]}     &       0.3632  &        0.108     &     3.363  &         0.001        &        0.152    &        0.575     \\\\\n\\textbf{loan\\_yes[T.True]}           &       0.0129  &        0.083     &     0.156  &         0.876        &       -0.149    &        0.175     \\\\\n\\textbf{education\\_school[T.True]}   &      -0.0665  &        0.060     &    -1.101  &         0.271        &       -0.185    &        0.052     \\\\\n\\textbf{out\\_treated\\_age}           &      -0.3609  &        0.197     &    -1.833  &         0.067        &       -0.747    &        0.025     \\\\\n\\textbf{cons\\_price\\_idx}            &      -6.1940  &        0.148     &   -41.763  &         0.000        &       -6.485    &       -5.903     \\\\\n\\bottomrule\n\\end{tabular}\n%\\caption{Logit Regression Results}\n\\end{center}"
     },
     "execution_count": 12,
     "metadata": {},
     "output_type": "execute_result"
    }
   ],
   "source": [
    "import statsmodels.api as sm\n",
    "formula = 'subscribe ~ out_treated_age + cons_price_idx + job_retired + job_self_employed + job_unemployed + job_white_collar + \\\n",
    "            marital_married + marital_single +  loan_yes +  education_school '\n",
    "log_reg = statsmodels.formula.api.logit(formula,data = train_data).fit()\n",
    "log_reg.summary()"
   ]
  },
  {
   "cell_type": "code",
   "execution_count": 13,
   "metadata": {
    "ExecuteTime": {
     "end_time": "2023-09-09T20:20:31.669082800Z",
     "start_time": "2023-09-09T20:20:31.514009200Z"
    }
   },
   "outputs": [
    {
     "name": "stdout",
     "output_type": "stream",
     "text": [
      "Optimization terminated successfully.\n",
      "         Current function value: 0.487461\n",
      "         Iterations 6\n"
     ]
    },
    {
     "data": {
      "text/plain": "<class 'statsmodels.iolib.summary.Summary'>\n\"\"\"\n                           Logit Regression Results                           \n==============================================================================\nDep. Variable:              subscribe   No. Observations:                 7408\nModel:                          Logit   Df Residuals:                     7397\nMethod:                           MLE   Df Model:                           10\nDate:                Sun, 10 Sep 2023   Pseudo R-squ.:                  0.2967\nTime:                        01:50:31   Log-Likelihood:                -3611.1\nconverged:                       True   LL-Null:                       -5134.7\nCovariance Type:            nonrobust   LLR p-value:                     0.000\n=============================================================================================\n                                coef    std err          z      P>|z|      [0.025      0.975]\n---------------------------------------------------------------------------------------------\nIntercept                     2.8490      0.149     19.131      0.000       2.557       3.141\njob_retired[T.True]           2.0631      0.153     13.492      0.000       1.763       2.363\njob_self_employed[T.True]    -0.0955      0.121     -0.791      0.429      -0.332       0.141\njob_unemployed[T.True]        1.5004      0.132     11.358      0.000       1.242       1.759\njob_white_collar[T.True]      0.3149      0.065      4.877      0.000       0.188       0.441\nmarital_married[T.True]      -0.0950      0.096     -0.988      0.323      -0.283       0.093\nmarital_single[T.True]        0.3632      0.108      3.363      0.001       0.152       0.575\nloan_yes[T.True]              0.0129      0.083      0.156      0.876      -0.149       0.175\neducation_school[T.True]     -0.0665      0.060     -1.101      0.271      -0.185       0.052\nout_treated_age              -0.3609      0.197     -1.833      0.067      -0.747       0.025\ncons_price_idx               -6.1940      0.148    -41.763      0.000      -6.485      -5.903\n=============================================================================================\n\"\"\"",
      "text/html": "<table class=\"simpletable\">\n<caption>Logit Regression Results</caption>\n<tr>\n  <th>Dep. Variable:</th>       <td>subscribe</td>    <th>  No. Observations:  </th>  <td>  7408</td> \n</tr>\n<tr>\n  <th>Model:</th>                 <td>Logit</td>      <th>  Df Residuals:      </th>  <td>  7397</td> \n</tr>\n<tr>\n  <th>Method:</th>                 <td>MLE</td>       <th>  Df Model:          </th>  <td>    10</td> \n</tr>\n<tr>\n  <th>Date:</th>            <td>Sun, 10 Sep 2023</td> <th>  Pseudo R-squ.:     </th>  <td>0.2967</td> \n</tr>\n<tr>\n  <th>Time:</th>                <td>01:50:31</td>     <th>  Log-Likelihood:    </th> <td> -3611.1</td>\n</tr>\n<tr>\n  <th>converged:</th>             <td>True</td>       <th>  LL-Null:           </th> <td> -5134.7</td>\n</tr>\n<tr>\n  <th>Covariance Type:</th>     <td>nonrobust</td>    <th>  LLR p-value:       </th>  <td> 0.000</td> \n</tr>\n</table>\n<table class=\"simpletable\">\n<tr>\n              <td></td>                 <th>coef</th>     <th>std err</th>      <th>z</th>      <th>P>|z|</th>  <th>[0.025</th>    <th>0.975]</th>  \n</tr>\n<tr>\n  <th>Intercept</th>                 <td>    2.8490</td> <td>    0.149</td> <td>   19.131</td> <td> 0.000</td> <td>    2.557</td> <td>    3.141</td>\n</tr>\n<tr>\n  <th>job_retired[T.True]</th>       <td>    2.0631</td> <td>    0.153</td> <td>   13.492</td> <td> 0.000</td> <td>    1.763</td> <td>    2.363</td>\n</tr>\n<tr>\n  <th>job_self_employed[T.True]</th> <td>   -0.0955</td> <td>    0.121</td> <td>   -0.791</td> <td> 0.429</td> <td>   -0.332</td> <td>    0.141</td>\n</tr>\n<tr>\n  <th>job_unemployed[T.True]</th>    <td>    1.5004</td> <td>    0.132</td> <td>   11.358</td> <td> 0.000</td> <td>    1.242</td> <td>    1.759</td>\n</tr>\n<tr>\n  <th>job_white_collar[T.True]</th>  <td>    0.3149</td> <td>    0.065</td> <td>    4.877</td> <td> 0.000</td> <td>    0.188</td> <td>    0.441</td>\n</tr>\n<tr>\n  <th>marital_married[T.True]</th>   <td>   -0.0950</td> <td>    0.096</td> <td>   -0.988</td> <td> 0.323</td> <td>   -0.283</td> <td>    0.093</td>\n</tr>\n<tr>\n  <th>marital_single[T.True]</th>    <td>    0.3632</td> <td>    0.108</td> <td>    3.363</td> <td> 0.001</td> <td>    0.152</td> <td>    0.575</td>\n</tr>\n<tr>\n  <th>loan_yes[T.True]</th>          <td>    0.0129</td> <td>    0.083</td> <td>    0.156</td> <td> 0.876</td> <td>   -0.149</td> <td>    0.175</td>\n</tr>\n<tr>\n  <th>education_school[T.True]</th>  <td>   -0.0665</td> <td>    0.060</td> <td>   -1.101</td> <td> 0.271</td> <td>   -0.185</td> <td>    0.052</td>\n</tr>\n<tr>\n  <th>out_treated_age</th>           <td>   -0.3609</td> <td>    0.197</td> <td>   -1.833</td> <td> 0.067</td> <td>   -0.747</td> <td>    0.025</td>\n</tr>\n<tr>\n  <th>cons_price_idx</th>            <td>   -6.1940</td> <td>    0.148</td> <td>  -41.763</td> <td> 0.000</td> <td>   -6.485</td> <td>   -5.903</td>\n</tr>\n</table>",
      "text/latex": "\\begin{center}\n\\begin{tabular}{lclc}\n\\toprule\n\\textbf{Dep. Variable:}              &    subscribe     & \\textbf{  No. Observations:  } &     7408    \\\\\n\\textbf{Model:}                      &      Logit       & \\textbf{  Df Residuals:      } &     7397    \\\\\n\\textbf{Method:}                     &       MLE        & \\textbf{  Df Model:          } &       10    \\\\\n\\textbf{Date:}                       & Sun, 10 Sep 2023 & \\textbf{  Pseudo R-squ.:     } &   0.2967    \\\\\n\\textbf{Time:}                       &     01:50:31     & \\textbf{  Log-Likelihood:    } &   -3611.1   \\\\\n\\textbf{converged:}                  &       True       & \\textbf{  LL-Null:           } &   -5134.7   \\\\\n\\textbf{Covariance Type:}            &    nonrobust     & \\textbf{  LLR p-value:       } &    0.000    \\\\\n\\bottomrule\n\\end{tabular}\n\\begin{tabular}{lcccccc}\n                                     & \\textbf{coef} & \\textbf{std err} & \\textbf{z} & \\textbf{P$> |$z$|$} & \\textbf{[0.025} & \\textbf{0.975]}  \\\\\n\\midrule\n\\textbf{Intercept}                   &       2.8490  &        0.149     &    19.131  &         0.000        &        2.557    &        3.141     \\\\\n\\textbf{job\\_retired[T.True]}        &       2.0631  &        0.153     &    13.492  &         0.000        &        1.763    &        2.363     \\\\\n\\textbf{job\\_self\\_employed[T.True]} &      -0.0955  &        0.121     &    -0.791  &         0.429        &       -0.332    &        0.141     \\\\\n\\textbf{job\\_unemployed[T.True]}     &       1.5004  &        0.132     &    11.358  &         0.000        &        1.242    &        1.759     \\\\\n\\textbf{job\\_white\\_collar[T.True]}  &       0.3149  &        0.065     &     4.877  &         0.000        &        0.188    &        0.441     \\\\\n\\textbf{marital\\_married[T.True]}    &      -0.0950  &        0.096     &    -0.988  &         0.323        &       -0.283    &        0.093     \\\\\n\\textbf{marital\\_single[T.True]}     &       0.3632  &        0.108     &     3.363  &         0.001        &        0.152    &        0.575     \\\\\n\\textbf{loan\\_yes[T.True]}           &       0.0129  &        0.083     &     0.156  &         0.876        &       -0.149    &        0.175     \\\\\n\\textbf{education\\_school[T.True]}   &      -0.0665  &        0.060     &    -1.101  &         0.271        &       -0.185    &        0.052     \\\\\n\\textbf{out\\_treated\\_age}           &      -0.3609  &        0.197     &    -1.833  &         0.067        &       -0.747    &        0.025     \\\\\n\\textbf{cons\\_price\\_idx}            &      -6.1940  &        0.148     &   -41.763  &         0.000        &       -6.485    &       -5.903     \\\\\n\\bottomrule\n\\end{tabular}\n%\\caption{Logit Regression Results}\n\\end{center}"
     },
     "execution_count": 13,
     "metadata": {},
     "output_type": "execute_result"
    }
   ],
   "source": [
    "formula = 'subscribe ~ out_treated_age + cons_price_idx + job_retired + job_self_employed + job_unemployed +\\\n",
    "            job_white_collar + marital_married + marital_single + loan_yes + education_school'\n",
    "log_reg = statsmodels.formula.api.logit(formula,data = train_data).fit()\n",
    "log_reg.summary()"
   ]
  },
  {
   "cell_type": "code",
   "execution_count": 14,
   "metadata": {
    "ExecuteTime": {
     "end_time": "2023-09-09T20:20:40.530535700Z",
     "start_time": "2023-09-09T20:20:40.412928600Z"
    }
   },
   "outputs": [
    {
     "name": "stdout",
     "output_type": "stream",
     "text": [
      "Optimization terminated successfully.\n",
      "         Current function value: 0.487873\n",
      "         Iterations 6\n"
     ]
    },
    {
     "data": {
      "text/plain": "<class 'statsmodels.iolib.summary.Summary'>\n\"\"\"\n                           Logit Regression Results                           \n==============================================================================\nDep. Variable:              subscribe   No. Observations:                 7408\nModel:                          Logit   Df Residuals:                     7402\nMethod:                           MLE   Df Model:                            5\nDate:                Sun, 10 Sep 2023   Pseudo R-squ.:                  0.2961\nTime:                        01:50:40   Log-Likelihood:                -3614.2\nconverged:                       True   LL-Null:                       -5134.7\nCovariance Type:            nonrobust   LLR p-value:                     0.000\n============================================================================================\n                               coef    std err          z      P>|z|      [0.025      0.975]\n--------------------------------------------------------------------------------------------\nIntercept                    2.5790      0.083     30.947      0.000       2.416       2.742\njob_retired[T.True]          1.9761      0.142     13.915      0.000       1.698       2.254\njob_unemployed[T.True]       1.5160      0.130     11.668      0.000       1.261       1.771\njob_white_collar[T.True]     0.3314      0.062      5.365      0.000       0.210       0.452\nmarital_single[T.True]       0.5022      0.064      7.799      0.000       0.376       0.628\ncons_price_idx              -6.1981      0.148    -41.854      0.000      -6.488      -5.908\n============================================================================================\n\"\"\"",
      "text/html": "<table class=\"simpletable\">\n<caption>Logit Regression Results</caption>\n<tr>\n  <th>Dep. Variable:</th>       <td>subscribe</td>    <th>  No. Observations:  </th>  <td>  7408</td> \n</tr>\n<tr>\n  <th>Model:</th>                 <td>Logit</td>      <th>  Df Residuals:      </th>  <td>  7402</td> \n</tr>\n<tr>\n  <th>Method:</th>                 <td>MLE</td>       <th>  Df Model:          </th>  <td>     5</td> \n</tr>\n<tr>\n  <th>Date:</th>            <td>Sun, 10 Sep 2023</td> <th>  Pseudo R-squ.:     </th>  <td>0.2961</td> \n</tr>\n<tr>\n  <th>Time:</th>                <td>01:50:40</td>     <th>  Log-Likelihood:    </th> <td> -3614.2</td>\n</tr>\n<tr>\n  <th>converged:</th>             <td>True</td>       <th>  LL-Null:           </th> <td> -5134.7</td>\n</tr>\n<tr>\n  <th>Covariance Type:</th>     <td>nonrobust</td>    <th>  LLR p-value:       </th>  <td> 0.000</td> \n</tr>\n</table>\n<table class=\"simpletable\">\n<tr>\n              <td></td>                <th>coef</th>     <th>std err</th>      <th>z</th>      <th>P>|z|</th>  <th>[0.025</th>    <th>0.975]</th>  \n</tr>\n<tr>\n  <th>Intercept</th>                <td>    2.5790</td> <td>    0.083</td> <td>   30.947</td> <td> 0.000</td> <td>    2.416</td> <td>    2.742</td>\n</tr>\n<tr>\n  <th>job_retired[T.True]</th>      <td>    1.9761</td> <td>    0.142</td> <td>   13.915</td> <td> 0.000</td> <td>    1.698</td> <td>    2.254</td>\n</tr>\n<tr>\n  <th>job_unemployed[T.True]</th>   <td>    1.5160</td> <td>    0.130</td> <td>   11.668</td> <td> 0.000</td> <td>    1.261</td> <td>    1.771</td>\n</tr>\n<tr>\n  <th>job_white_collar[T.True]</th> <td>    0.3314</td> <td>    0.062</td> <td>    5.365</td> <td> 0.000</td> <td>    0.210</td> <td>    0.452</td>\n</tr>\n<tr>\n  <th>marital_single[T.True]</th>   <td>    0.5022</td> <td>    0.064</td> <td>    7.799</td> <td> 0.000</td> <td>    0.376</td> <td>    0.628</td>\n</tr>\n<tr>\n  <th>cons_price_idx</th>           <td>   -6.1981</td> <td>    0.148</td> <td>  -41.854</td> <td> 0.000</td> <td>   -6.488</td> <td>   -5.908</td>\n</tr>\n</table>",
      "text/latex": "\\begin{center}\n\\begin{tabular}{lclc}\n\\toprule\n\\textbf{Dep. Variable:}             &    subscribe     & \\textbf{  No. Observations:  } &     7408    \\\\\n\\textbf{Model:}                     &      Logit       & \\textbf{  Df Residuals:      } &     7402    \\\\\n\\textbf{Method:}                    &       MLE        & \\textbf{  Df Model:          } &        5    \\\\\n\\textbf{Date:}                      & Sun, 10 Sep 2023 & \\textbf{  Pseudo R-squ.:     } &   0.2961    \\\\\n\\textbf{Time:}                      &     01:50:40     & \\textbf{  Log-Likelihood:    } &   -3614.2   \\\\\n\\textbf{converged:}                 &       True       & \\textbf{  LL-Null:           } &   -5134.7   \\\\\n\\textbf{Covariance Type:}           &    nonrobust     & \\textbf{  LLR p-value:       } &    0.000    \\\\\n\\bottomrule\n\\end{tabular}\n\\begin{tabular}{lcccccc}\n                                    & \\textbf{coef} & \\textbf{std err} & \\textbf{z} & \\textbf{P$> |$z$|$} & \\textbf{[0.025} & \\textbf{0.975]}  \\\\\n\\midrule\n\\textbf{Intercept}                  &       2.5790  &        0.083     &    30.947  &         0.000        &        2.416    &        2.742     \\\\\n\\textbf{job\\_retired[T.True]}       &       1.9761  &        0.142     &    13.915  &         0.000        &        1.698    &        2.254     \\\\\n\\textbf{job\\_unemployed[T.True]}    &       1.5160  &        0.130     &    11.668  &         0.000        &        1.261    &        1.771     \\\\\n\\textbf{job\\_white\\_collar[T.True]} &       0.3314  &        0.062     &     5.365  &         0.000        &        0.210    &        0.452     \\\\\n\\textbf{marital\\_single[T.True]}    &       0.5022  &        0.064     &     7.799  &         0.000        &        0.376    &        0.628     \\\\\n\\textbf{cons\\_price\\_idx}           &      -6.1981  &        0.148     &   -41.854  &         0.000        &       -6.488    &       -5.908     \\\\\n\\bottomrule\n\\end{tabular}\n%\\caption{Logit Regression Results}\n\\end{center}"
     },
     "execution_count": 14,
     "metadata": {},
     "output_type": "execute_result"
    }
   ],
   "source": [
    "formula = 'subscribe ~ cons_price_idx + job_retired + job_unemployed + job_white_collar + marital_single'\n",
    "log_reg = statsmodels.formula.api.logit(formula,data = train_data).fit()\n",
    "log_reg.summary()"
   ]
  },
  {
   "cell_type": "code",
   "execution_count": null,
   "metadata": {},
   "outputs": [],
   "source": [
    "vif"
   ]
  },
  {
   "cell_type": "code",
   "execution_count": 15,
   "metadata": {
    "ExecuteTime": {
     "end_time": "2023-09-09T20:20:47.613034800Z",
     "start_time": "2023-09-09T20:20:47.565068500Z"
    }
   },
   "outputs": [],
   "source": [
    "pred_test = log_reg.predict(X_test)\n",
    "test_data['test_pred_class'] = [1 if x >= 0.5 else 0 for x in pred_test]\n",
    "pred_train = log_reg.predict(X_train)\n",
    "train_data['train_pred_class'] = [1 if x >= 0.5 else 0 for x in pred_train]"
   ]
  },
  {
   "cell_type": "code",
   "execution_count": 16,
   "metadata": {
    "ExecuteTime": {
     "end_time": "2023-09-09T20:20:48.637035500Z",
     "start_time": "2023-09-09T20:20:48.519761200Z"
    }
   },
   "outputs": [
    {
     "name": "stdout",
     "output_type": "stream",
     "text": [
      "Train Data Confusion Matrix--> \n",
      " [[2890  837]\n",
      " [ 745 2936]]\n",
      "Test Data Confusion Matrix--> \n",
      " [[721 180]\n",
      " [189 763]]\n"
     ]
    }
   ],
   "source": [
    "test_data_cm = confusion_matrix(test_data['subscribe'], test_data['test_pred_class'])\n",
    "train_data_cm = confusion_matrix(train_data['subscribe'], train_data['train_pred_class'])\n",
    "print('Train Data Confusion Matrix--> \\n',train_data_cm )\n",
    "print('Test Data Confusion Matrix--> \\n',test_data_cm )"
   ]
  },
  {
   "cell_type": "code",
   "execution_count": 17,
   "metadata": {
    "ExecuteTime": {
     "end_time": "2023-09-09T20:20:50.343991200Z",
     "start_time": "2023-09-09T20:20:50.173566Z"
    }
   },
   "outputs": [
    {
     "name": "stdout",
     "output_type": "stream",
     "text": [
      "Train Data Accuracy Report--> \n",
      "               precision    recall  f1-score   support\n",
      "\n",
      "         0.0       0.80      0.78      0.79      3727\n",
      "         1.0       0.78      0.80      0.79      3681\n",
      "\n",
      "    accuracy                           0.79      7408\n",
      "   macro avg       0.79      0.79      0.79      7408\n",
      "weighted avg       0.79      0.79      0.79      7408\n",
      "\n",
      "Test Data Accuracy Report--> \n",
      "               precision    recall  f1-score   support\n",
      "\n",
      "         0.0       0.79      0.80      0.80       901\n",
      "         1.0       0.81      0.80      0.81       952\n",
      "\n",
      "    accuracy                           0.80      1853\n",
      "   macro avg       0.80      0.80      0.80      1853\n",
      "weighted avg       0.80      0.80      0.80      1853\n"
     ]
    }
   ],
   "source": [
    "## Train and test accuracy report\n",
    "\n",
    "print('Train Data Accuracy Report--> \\n',classification_report(train_data['subscribe'], train_data['train_pred_class']))\n",
    "print('Test Data Accuracy Report--> \\n',classification_report(test_data['subscribe'], test_data['test_pred_class']))"
   ]
  },
  {
   "cell_type": "code",
   "execution_count": 18,
   "metadata": {
    "ExecuteTime": {
     "end_time": "2023-09-09T20:20:52.999699300Z",
     "start_time": "2023-09-09T20:20:52.498545300Z"
    }
   },
   "outputs": [
    {
     "data": {
      "text/plain": "<Figure size 600x400 with 1 Axes>",
      "image/png": "[encoded data removed]"
     },
     "metadata": {},
     "output_type": "display_data"
    }
   ],
   "source": [
    "# plot ROC Curve\n",
    "\n",
    "\n",
    "fpr, tpr, thresholds = roc_curve(test_data['subscribe'], test_data['test_pred_class'], pos_label = 1)\n",
    "\n",
    "plt.figure(figsize=(6,4))\n",
    "\n",
    "plt.plot(fpr, tpr, linewidth=2)\n",
    "\n",
    "plt.plot([0,1], [0,1], 'k--' )\n",
    "\n",
    "plt.rcParams['font.size'] = 12\n",
    "\n",
    "plt.title('ROC curve for RainTomorrow classifier')\n",
    "\n",
    "plt.xlabel('False Positive Rate (1 - Specificity)')\n",
    "\n",
    "plt.ylabel('True Positive Rate (Sensitivity)')\n",
    "\n",
    "plt.show()"
   ]
  },
  {
   "cell_type": "code",
   "execution_count": null,
   "metadata": {},
   "outputs": [],
   "source": []
  }
 ],
 "metadata": {
  "kernelspec": {
   "display_name": "Python 3",
   "language": "python",
   "name": "python3"
  },
  "language_info": {
   "codemirror_mode": {
    "name": "ipython",
    "version": 3
   },
   "file_extension": ".py",
   "mimetype": "text/x-python",
   "name": "python",
   "nbconvert_exporter": "python",
   "pygments_lexer": "ipython3",
   "version": "3.7.6"
  }
 },
 "nbformat": 4,
 "nbformat_minor": 4
}
